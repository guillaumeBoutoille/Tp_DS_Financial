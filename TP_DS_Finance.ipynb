{
 "cells": [
  {
   "cell_type": "markdown",
   "metadata": {},
   "source": [
    "# TP: Datascience pour la finance\n",
    "\n",
    "### Problème de Merton\n",
    "\n",
    "On a un actif $S_A$ qui se modélise par l'équation suivante :\n",
    "\n",
    "$$ dS_A = \\sigma \\; S_A \\; dW_A $$\n",
    "\n",
    "Pour cet exercice on utilise la fonction d'utilité suivante :\n",
    "$$\n",
    "U(X) = 1-e^{-X}\n",
    "$$\n",
    "\n",
    "On fait l'hypothèse que la stratégie optimale est une fonction polynomiale de degré au plus D.\n",
    "La stratégie $\\alpha$ consiste à :\n",
    "- Initialisation : acheter $\\alpha (0)$ en $T=0 $\n",
    "- En $T=n$ avec $n\\geq 1$ : On vend $\\alpha (n-1) $ et on achète $\\alpha(n) $ tel que \n",
    "$$\n",
    "\\alpha(n) = \\sum_{0 \\leq k\\leq D} \\alpha^{(k)}(n) \\; (S_{T_n})^k\n",
    "$$\n",
    "\n",
    "La fonction $V$ représente notre richesse en fonction du temps $T_N$, par rapport a notre stratégie $\\alpha$:\n",
    "$$\n",
    "V^{\\alpha,D}(T_N) = \\sum_{i=0}^{N-1}  \\alpha(i) \\; (S_{T_{i+1}} - S_{T_i}) + \\mathbb{1}_{S_{T_N} \\geq K}\n",
    "$$\n",
    "\n",
    "On cherche la stratégie qui maximise notre fonction d'utilité, i.e, on résoud le problème suivant :\n",
    "\n",
    "$$\n",
    " \\max_{\\alpha} \\mathbb{E} [ U(V^{\\alpha,D}(T_n)) ]\n",
    "$$\n",
    "\n",
    "\n",
    "### Simulation du processus \n",
    "\n",
    "On prend comme hypothèse que :\n",
    "- $S_0 = 100$\n",
    "- $N = 100$\n",
    "- $\\sigma = 10 \\%$\n",
    "- $K = [80-120] $\n",
    "- $r=0$\n",
    "\n",
    "On simule le processus du sous-jacent par la formule suivante:\n",
    "\n",
    "$$ S_T = S_0 \\cdot \\exp  ( -\\frac{\\sigma^2}{2}\\cdot T + \\sigma W_T )  $$"
   ]
  },
  {
   "cell_type": "code",
   "execution_count": 1,
   "metadata": {
    "collapsed": true
   },
   "outputs": [],
   "source": [
    "import numpy as np\n",
    "import matplotlib.pyplot as plt\n",
    "from scipy.stats import norm\n",
    "import random\n",
    "\n",
    "%matplotlib inline"
   ]
  },
  {
   "cell_type": "code",
   "execution_count": 52,
   "metadata": {
    "collapsed": true
   },
   "outputs": [],
   "source": [
    "S0 = 10\n",
    "N = 10\n",
    "sigma = 0.1\n",
    "T = np.linspace(0,1,100)\n",
    "\n",
    "def Brownian_Motion(n,N,sigma):\n",
    "    \"\"\"\n",
    "    - n représente le nombre de données que l'on veut générer pour l'échantillon\n",
    "    - N est la longueur de notre mouvement brownien.\n",
    "    - sigma représente l'écart-type.\n",
    "    On retroune W la matrice des n mouvements browniens.\n",
    "    \"\"\"\n",
    "    G = np.random.normal(loc = 0,scale = sigma,size = (n,N))\n",
    "    zeros = np.zeros(n).reshape(n,1)\n",
    "    W = np.concatenate((zeros,np.cumsum(G,axis = 1)),axis=1)\n",
    "    return W\n",
    "\n",
    "def S_t(S0=S0, N=N,sigma=sigma,n=10):\n",
    "    \"\"\"\n",
    "    - S0 représente la première valeur de notre courbe de taux que l'on simule\n",
    "    On retourne n simulations de la courbe de taux décrite par l'EDP (1).\n",
    "    \"\"\"\n",
    "    return np.multiply(np.repeat(S0,n).reshape(n,1),np.exp(-0.5*sigma**2*np.arange(N+1)/(N+1)+sigma*Brownian_Motion(n,N,sigma))).T"
   ]
  },
  {
   "cell_type": "markdown",
   "metadata": {},
   "source": [
    "On génère un échantillon de données "
   ]
  },
  {
   "cell_type": "code",
   "execution_count": 53,
   "metadata": {
    "scrolled": false
   },
   "outputs": [
    {
     "data": {
      "text/plain": [
       "[<matplotlib.lines.Line2D at 0x25e4ff50e48>]"
      ]
     },
     "execution_count": 53,
     "metadata": {},
     "output_type": "execute_result"
    },
    {
     "data": {
      "image/png": "[encoded data removed]",
      "text/plain": [
       "<matplotlib.figure.Figure at 0x25e4fea8a58>"
      ]
     },
     "metadata": {},
     "output_type": "display_data"
    }
   ],
   "source": [
    "np.random.seed(10)\n",
    "\n",
    "S = S_t(S0=S0,N=N,sigma = sigma ,n=1)\n",
    "plt.plot(S)"
   ]
  },
  {
   "cell_type": "markdown",
   "metadata": {},
   "source": [
    "\n",
    "\n",
    "## Algorithme stochastique\n",
    "\n",
    "On applique une descente de gradient pour trouver le $\\alpha^{\\star}$. Le principe est d'initialiser les paramètres à des valeurs quelconques puis de se rapprocher de la solution en itérant dans le sens inverse du gradient:\n",
    "$$\n",
    "\\alpha_{i+1}(T_n) = \\alpha_i(T_n) -  \\theta_n\\cdot\\nabla_{\\alpha_i} U(V^{\\alpha,D}(T_n))\n",
    "$$\n",
    "\n",
    "avec $\\nabla_{\\alpha_i} U(V^{\\alpha,D}(T_n)) = \\frac{\\partial U(V^{\\alpha,D})}{\\partial \\alpha_i}(\\cdot) $, la dérivée partiel par rapport au paramètre à optimiser et $\\theta_n$ est le pas de descente.\n",
    "\n",
    "Dans notre cas on va choisir $\\theta_n = 1/n$.\n",
    "\n",
    "###### Petit rappel de calcul des dérivées :\n",
    "\n",
    "$$\n",
    "    (f(g(x)))^{\\prime} = g^{\\prime}(x)\\times f^{\\prime}(g(x))\n",
    "$$\n",
    "\n",
    "Un petit rappel de l'énoncé:\n",
    "$$\n",
    "    V^{\\alpha,D}(T_N) = \\sum_{i=0}^{N-1}  \\alpha(i) \\; (S_{T_{i+1}} - S_{T_i}) + \\mathbb{1}_{S_{T_N} \\geq K}\n",
    "$$\n",
    "Donc, on a\n",
    "$$\n",
    "    \\nabla_{\\alpha_i} U(V^{\\alpha,D}(T_i)) = \n",
    "    \\left \\{\n",
    "   \\begin{array}{r l}\n",
    "      \\exp(-V^{\\alpha,D}(0))\\cdot (S(T_1)-S(0)) & \\text{ si } T_i = 0 \\\\\n",
    "      \\exp(-V^{\\alpha,D}(T_i))\\cdot (S(T_{i+1})-S(T_i)) & \\text{ si } T_i > 0 \\text{ et } k=0 \\\\\n",
    "      \\exp(-V^{\\alpha,D}(T_i)) \\cdot (S_{T_i})^k\\cdot (S(T_{i+1})-S(T_i)) & \\text{ sinon } \n",
    "   \\end{array}\n",
    "   \\right .\n",
    "$$\n",
    "\n",
    "\n"
   ]
  },
  {
   "cell_type": "code",
   "execution_count": 54,
   "metadata": {
    "collapsed": true
   },
   "outputs": [],
   "source": [
    "def parameters_alpha(alpha,S,D):\n",
    "    return np.r_[alpha[0],np.diag(alpha[1::].reshape(len(S)-1,-1).dot(np.array([S[1:(len(S)-1)]**i for i in range(D+1)]).reshape(D+1,-1)))]\n",
    "\n",
    "def V(alpha,S,D,k):\n",
    "    return np.r_[alpha[0]*S[0], np.repeat(np.cumsum(parameters_alpha(alpha,S,D)[0:(len(S)-1)]*(S[1::]-S[0:(len(S)-1)]).ravel()).ravel(),D+1)]+np.repeat((S>k).ravel(),D+1)[D::]\n"
   ]
  },
  {
   "cell_type": "code",
   "execution_count": 55,
   "metadata": {
    "collapsed": true
   },
   "outputs": [],
   "source": [
    "def gradient_descent(alpha,S,learning_rate,D,k):\n",
    "    \"\"\"\n",
    "    - alpha sont les paramètres a optimiser\n",
    "    - S le processus stochastique\n",
    "    - learning_rate le pas de descente\n",
    "    - D le degré des polynomes alpha\n",
    "    On retourne le gradient et les nouveaux parmaètres après une itération.\n",
    "    \"\"\"\n",
    "    grads = np.exp(-V(alpha ,S[0:(len(S)-1)] ,D ,k))*np.r_[S[1]-S[0],np.multiply(np.array([S[1:(len(S)-1)]**i for i in range(D+1)]),S[2:]-S[1:(len(S)-1)]).T.ravel()]\n",
    "    alpha -= learning_rate * grads\n",
    "    return (grads,alpha)\n"
   ]
  },
  {
   "cell_type": "code",
   "execution_count": 56,
   "metadata": {
    "collapsed": true
   },
   "outputs": [],
   "source": [
    "def optimization(alpha, S, learning_rate,D,k, num_iteration):\n",
    "    \"\"\"\n",
    "    - alpha sont les paramètres a optimiser\n",
    "    - S le processus stochastique\n",
    "    - learning_rate le pas de descente\n",
    "    - D le degré des polynomes alpha\n",
    "    On applique la descente de gradient pour un certain nombre d'itération et on retourne les paramètres optimisés.\n",
    "    \"\"\"\n",
    "    for i in range(num_iteration):\n",
    "        grads,alpha = gradient_descent(alpha,S,learning_rate/num_iteration,D,k)\n",
    "    return alpha"
   ]
  },
  {
   "cell_type": "code",
   "execution_count": 71,
   "metadata": {
    "scrolled": true
   },
   "outputs": [
    {
     "name": "stdout",
     "output_type": "stream",
     "text": [
      "[11.          1.12944382  1.19752105  1.03657689  1.03117481  1.08910914\n",
      "  1.01216784  1.03422458  1.04055757  1.03642542]\n",
      "[ 2.16193196e-06  2.20034449e-02 -4.85957691e-02 -1.91593689e-03\n",
      "  2.06586745e-02 -2.58919876e-02  8.01608687e-03  2.25138997e-03\n",
      " -1.45971565e-03 -7.82561046e-03] [0.99999784 0.97799656 1.04859577 1.00191594 0.97934133 1.02589199\n",
      " 0.99198391 0.99774861 1.00145972 1.00782561]\n"
     ]
    }
   ],
   "source": [
    "D=0\n",
    "alpha = np.ones((D+1)*(N-1)+1).ravel()\n",
    "print(V(alpha,S[0:(len(S)-1)],D,6))\n",
    "\n",
    "grads, alpha = gradient_descent(alpha,S,learning_rate=1,D=D,k=6)\n",
    "\n",
    "print(grads,alpha)"
   ]
  },
  {
   "cell_type": "code",
   "execution_count": 72,
   "metadata": {},
   "outputs": [
    {
     "name": "stdout",
     "output_type": "stream",
     "text": [
      "[0.99999196 0.91818495 1.18115788 1.00723939 0.92193952 1.09803984\n",
      " 0.96954099 0.99144265 1.0055484  1.02974556]\n"
     ]
    }
   ],
   "source": [
    "print(optimization(alpha,S,learning_rate=1,D=D,k=S0+1,num_iteration=100))"
   ]
  },
  {
   "cell_type": "markdown",
   "metadata": {},
   "source": [
    "## Reseau de neurones \n",
    "\n",
    "Le but du réseau de neurone est de maximiser une fonction d'energie. Dans notre cas c'est la fonction d'utilité. On lui donne la courbe de l'actif sur lequel on cherche la stratégie optimale et le reseau de neurone cherche les paramètres optimaux $\\alpha^{\\star}$.\n",
    "\n",
    "<img src=\"NN.png\">\n",
    "\n",
    "Pour construire un réseau de neurones on réalise plusieurs fonctions. \n",
    "La première est celle de l'initialisation des paramètres que l'on cherche à optimiser avec le réseau de neurone.\n",
    "On rappel que les paramètres à optimiser s'exprime de la manière suivante :\n",
    "\n",
    "$$ \n",
    "    \\alpha(i) = \\left \\{\n",
    "   \\begin{array}{r l}\n",
    "      \\alpha(0) & \\text{ si } i = 0 \\\\\n",
    "      \\sum_{0 \\leq k\\leq D} \\alpha^{(k)}(i) \\; (S_{T_i})^k & \\text{ si } i > 0 \n",
    "   \\end{array}\n",
    "   \\right .\n",
    "$$\n",
    "\n",
    "\n",
    "\n",
    "\n",
    "### Initialisation du réseau de neurone"
   ]
  },
  {
   "cell_type": "code",
   "execution_count": 73,
   "metadata": {
    "collapsed": true
   },
   "outputs": [],
   "source": [
    "def Initialisation(N,D):\n",
    "    \"\"\"\n",
    "    On initialise les paramètres.\n",
    "    - N : Nombre de Dates où l'on optimise notre quantité d'actif\n",
    "    - D : Le degrée du polynôme de la quantité d'actif\n",
    "    \"\"\"\n",
    "    a = np.ones((D+1)*(N-1)+1)\n",
    "    \n",
    "    return a"
   ]
  },
  {
   "cell_type": "code",
   "execution_count": 74,
   "metadata": {},
   "outputs": [
    {
     "name": "stdout",
     "output_type": "stream",
     "text": [
      "dimension de a = (10,)\n"
     ]
    }
   ],
   "source": [
    "a  = Initialisation(N,D)\n",
    "\n",
    "print(\"dimension de a = \"+str(a.shape))"
   ]
  },
  {
   "cell_type": "markdown",
   "metadata": {},
   "source": [
    "### La propagation et rétropropagation \n",
    "\n",
    "Cette étape permet d'atapter la descente de gradient à la structure du neurone. "
   ]
  },
  {
   "cell_type": "code",
   "execution_count": 75,
   "metadata": {
    "collapsed": true
   },
   "outputs": [],
   "source": [
    "def compute_propagation(alpha,S,N,D,k):\n",
    "    \"\"\"\n",
    "    - alpha : paramètres à optimiser\n",
    "    - S : courbe de l'actif\n",
    "    - N : Date à laquelle on fait les échanges\n",
    "    - D : Degrée de polynome pour approcher la stratégie optimale\n",
    "    \"\"\"\n",
    "    # foward propagation \n",
    "    U = 1-np.exp(-V(alpha,S[0:(len(S)-1)],D,k))\n",
    "    \n",
    "    # backward propagation\n",
    "    grads = np.exp(-V(alpha ,S[0:(len(S)-1)] ,D ,k))*np.r_[S[1]-S[0],np.multiply(np.array([S[1:(len(S)-1)]**i for i in range(D+1)]),S[2:]-S[1:(len(S)-1)]).T.ravel()]\n",
    "    \n",
    "    return grads, U"
   ]
  },
  {
   "cell_type": "code",
   "execution_count": 76,
   "metadata": {
    "collapsed": true
   },
   "outputs": [],
   "source": [
    "def compute_neural_network(S,N,D,k, num_iterations, learning_rate=1):\n",
    "    alpha = Initialisation(N,D)\n",
    "    utilite = []\n",
    "    for i in range(num_iterations):\n",
    "        grads, U = compute_propagation(alpha,S,N,D,k)\n",
    "        \n",
    "        # update parameters\n",
    "        alpha = alpha - (learning_rate/(i+1))*grads\n",
    "        \n",
    "        if i %100 == 0:\n",
    "            utilite.append(U[-1])\n",
    "            print(U[-1])\n",
    "    return alpha, grads, utilite"
   ]
  },
  {
   "cell_type": "code",
   "execution_count": 77,
   "metadata": {
    "scrolled": true
   },
   "outputs": [
    {
     "name": "stdout",
     "output_type": "stream",
     "text": [
      "0.6452796045122907\n",
      "0.6208664583370982\n",
      "0.617452509797519\n",
      "0.6154339221339203\n",
      "0.6139924854736307\n",
      "0.6128692422247652\n",
      "0.6119481594349694\n",
      "0.6111670742640888\n",
      "0.6104887546115025\n",
      "0.609889117296054\n"
     ]
    }
   ],
   "source": [
    "alpha,grads,utilite = compute_neural_network(S,N,D,6, 1000, 1)"
   ]
  },
  {
   "cell_type": "markdown",
   "metadata": {
    "collapsed": true
   },
   "source": [
    "## Fonction Utilité : $U(X)=X^2$"
   ]
  },
  {
   "cell_type": "code",
   "execution_count": 81,
   "metadata": {
    "collapsed": true
   },
   "outputs": [],
   "source": [
    "def gradient_descent(alpha,S,learning_rate,D,k):\n",
    "    \"\"\"\n",
    "    - alpha sont les paramètres a optimiser\n",
    "    - S le processus stochastique\n",
    "    - learning_rate le pas de descente\n",
    "    - D le degré des polynomes alpha\n",
    "    On retourne le gradient et les nouveaux parmaètres après une itération.\n",
    "    \"\"\"\n",
    "    grads = 2*V(alpha ,S[0:(len(S)-1)] ,D ,k)*np.r_[S[1]-S[0],np.multiply(np.array([S[1:(len(S)-1)]**i for i in range(D+1)]),S[2:]-S[1:(len(S)-1)]).T.ravel()]\n",
    "    alpha -= learning_rate * grads\n",
    "    return (grads,alpha)"
   ]
  },
  {
   "cell_type": "code",
   "execution_count": 83,
   "metadata": {},
   "outputs": [
    {
     "name": "stdout",
     "output_type": "stream",
     "text": [
      "[  11.            1.12944382    1.12944382    1.12944382    1.12944382\n",
      "   79.62746811   79.62746811   79.62746811   79.62746811 -109.58194336\n",
      " -109.58194336 -109.58194336 -109.58194336 -115.64730267 -115.64730267\n",
      " -115.64730267 -115.64730267  -50.70076035  -50.70076035  -50.70076035\n",
      "  -50.70076035 -138.40236176 -138.40236176 -138.40236176 -138.40236176\n",
      " -113.81107138 -113.81107138 -113.81107138 -113.81107138 -106.70531522\n",
      " -106.70531522 -106.70531522 -106.70531522 -111.35014763 -111.35014763\n",
      " -111.35014763 -111.35014763]\n",
      "[ 2.84776406e+00  1.53778822e-01  1.55769394e+00  1.57785732e+01\n",
      "  1.59828171e+02 -2.56311533e+01 -2.61374226e+02 -2.66536917e+03\n",
      " -2.71801582e+04  1.18394033e+00  1.18827081e+01  1.19261714e+02\n",
      "  1.19697936e+03 -1.33998978e+01 -1.34416717e+02 -1.34835759e+03\n",
      " -1.35256107e+04  7.80196410e+00  7.87148672e+01  7.94162886e+02\n",
      "  8.01239603e+03 -6.10540982e+00 -6.11283879e+01 -6.12027680e+02\n",
      " -6.12772386e+03 -1.44152860e+00 -1.44646217e+01 -1.45141263e+02\n",
      " -1.45638003e+03  8.81845951e-01  8.85422505e+00  8.89013563e+01\n",
      "  8.92619187e+02  4.91306895e+00  4.93096501e+01  4.94892625e+02\n",
      "  4.96695292e+03] [-1.84776406e+00  8.46221178e-01 -5.57693936e-01 -1.47785732e+01\n",
      " -1.58828171e+02  2.66311533e+01  2.62374226e+02  2.66636917e+03\n",
      "  2.71811582e+04 -1.83940328e-01 -1.08827081e+01 -1.18261714e+02\n",
      " -1.19597936e+03  1.43998978e+01  1.35416717e+02  1.34935759e+03\n",
      "  1.35266107e+04 -6.80196410e+00 -7.77148672e+01 -7.93162886e+02\n",
      " -8.01139603e+03  7.10540982e+00  6.21283879e+01  6.13027680e+02\n",
      "  6.12872386e+03  2.44152860e+00  1.54646217e+01  1.46141263e+02\n",
      "  1.45738003e+03  1.18154049e-01 -7.85422505e+00 -8.79013563e+01\n",
      " -8.91619187e+02 -3.91306895e+00 -4.83096501e+01 -4.93892625e+02\n",
      " -4.96595292e+03]\n"
     ]
    }
   ],
   "source": [
    "D=3\n",
    "alpha = np.ones((D+1)*(N-1)+1).ravel()\n",
    "print(V(alpha,S[0:(len(S)-1)],D,6))\n",
    "\n",
    "grads, alpha = gradient_descent_2(alpha,S,learning_rate=1,D=D,k=6)\n",
    "\n",
    "print(grads,alpha)"
   ]
  },
  {
   "cell_type": "code",
   "execution_count": 84,
   "metadata": {},
   "outputs": [
    {
     "name": "stdout",
     "output_type": "stream",
     "text": [
      "[-1.34122546e-01  8.57887176e-01 -4.39523871e-01 -1.35815762e+01\n",
      " -1.46703257e+02 -3.43111269e+03 -3.49980414e+04 -3.56902461e+05\n",
      " -3.63952956e+06  3.37049553e+06  3.38282285e+07  3.39519607e+08\n",
      "  3.40761463e+09  6.75382199e+08  6.77487689e+09  6.79599744e+10\n",
      "  6.81718383e+11  1.46983222e+12  1.48292977e+13  1.49614402e+14\n",
      "  1.50947603e+15  9.95683818e+14  9.96895350e+15  9.98108357e+16\n",
      "  9.99322840e+17 -4.33771119e+16 -4.35255683e+17 -4.36745327e+18\n",
      " -4.38240070e+19 -2.77038669e+17 -2.78162271e+18 -2.79290430e+19\n",
      " -2.80423164e+20  4.31967119e+18  4.33540577e+19  4.35119767e+20\n",
      "  4.36704709e+21]\n"
     ]
    }
   ],
   "source": [
    "print(optimization(alpha,S,learning_rate=1,D=D,k=S0+1,num_iteration=100))"
   ]
  },
  {
   "cell_type": "code",
   "execution_count": 86,
   "metadata": {
    "collapsed": true
   },
   "outputs": [],
   "source": [
    "def compute_propagation(alpha,S,N,D,k):\n",
    "    \"\"\"\n",
    "    - alpha : paramètres à optimiser\n",
    "    - S : courbe de l'actif\n",
    "    - N : Date à laquelle on fait les échanges\n",
    "    - D : Degrée de polynome pour approcher la stratégie optimale\n",
    "    \"\"\"\n",
    "    # foward propagation \n",
    "    U = (V(alpha,S[0:(len(S)-1)],D,k))**2\n",
    "    \n",
    "    # backward propagation\n",
    "    grads = 2*V(alpha ,S[0:(len(S)-1)] ,D ,k)*np.r_[S[1]-S[0],np.multiply(np.array([S[1:(len(S)-1)]**i for i in range(D+1)]),S[2:]-S[1:(len(S)-1)]).T.ravel()]\n",
    "    \n",
    "    return grads, U"
   ]
  },
  {
   "cell_type": "code",
   "execution_count": 87,
   "metadata": {},
   "outputs": [
    {
     "name": "stdout",
     "output_type": "stream",
     "text": [
      "12398.855378035942\n",
      "6.484829051293037e+50\n",
      "9.614561185022915e+51\n",
      "3.752268719688901e+52\n",
      "9.147523338960497e+52\n",
      "1.7596334730772612e+53\n",
      "2.9387872761525255e+53\n",
      "4.471037089952552e+53\n",
      "6.368576332945101e+53\n",
      "8.639092941889934e+53\n"
     ]
    }
   ],
   "source": [
    "alpha,grads,utilite = compute_neural_network(S,N,D,6, 1000, 1)"
   ]
  }
 ],
 "metadata": {
  "kernelspec": {
   "display_name": "Python 3",
   "language": "python",
   "name": "python3"
  },
  "language_info": {
   "codemirror_mode": {
    "name": "ipython",
    "version": 3
   },
   "file_extension": ".py",
   "mimetype": "text/x-python",
   "name": "python",
   "nbconvert_exporter": "python",
   "pygments_lexer": "ipython3",
   "version": "3.6.1"
  }
 },
 "nbformat": 4,
 "nbformat_minor": 2
}
